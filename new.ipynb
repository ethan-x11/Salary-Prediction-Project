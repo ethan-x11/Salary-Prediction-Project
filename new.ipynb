{
 "cells": [
  {
   "cell_type": "code",
   "execution_count": null,
   "metadata": {},
   "outputs": [],
   "source": [
    "import pandas as pd\n",
    "from sklearn.model_selection import train_test_split\n",
    "from sklearn.metrics import mean_squared_error\n",
    "from sklearn.ensemble import RandomForestRegressor\n",
    "from sklearn.metrics import r2_score \n",
    "from sklearn.preprocessing import LabelEncoder\n"
   ]
  },
  {
   "cell_type": "code",
   "execution_count": null,
   "metadata": {},
   "outputs": [],
   "source": [
    "data = pd.read_csv(r'Salary_Data.csv')\n",
    "data"
   ]
  },
  {
   "cell_type": "code",
   "execution_count": null,
   "metadata": {},
   "outputs": [],
   "source": [
    "sample_data = pd.read_csv(r'sample_test_data.csv')\n",
    "sample_data"
   ]
  },
  {
   "cell_type": "code",
   "execution_count": null,
   "metadata": {},
   "outputs": [],
   "source": [
    "location_encoder = LabelEncoder()\n",
    "job_role_encoder = LabelEncoder()\n",
    "degree_encoder = LabelEncoder()\n",
    "\n",
    "location_encoder.fit(data['Location'])\n",
    "job_role_encoder.fit(data['Job Role'])\n",
    "degree_encoder.fit(data['Degree'])"
   ]
  },
  {
   "cell_type": "code",
   "execution_count": null,
   "metadata": {},
   "outputs": [],
   "source": [
    "sample_data['Location'] = location_encoder.transform(sample_data['Location'])\n",
    "sample_data['Job Role'] = job_role_encoder.transform(sample_data['Job Role'])\n",
    "sample_data['Degree'] = degree_encoder.transform(sample_data['Degree'])\n",
    "sample_data\n"
   ]
  },
  {
   "cell_type": "code",
   "execution_count": null,
   "metadata": {},
   "outputs": [],
   "source": [
    "data['Location'] = location_encoder.transform(data['Location'])\n",
    "data['Job Role'] = job_role_encoder.transform(data['Job Role'])\n",
    "data['Degree'] = degree_encoder.transform(data['Degree'])\n",
    "data\n"
   ]
  },
  {
   "cell_type": "code",
   "execution_count": null,
   "metadata": {},
   "outputs": [],
   "source": [
    "X = data[['Location', 'Job Role', 'Experience (Years)', 'Degree']]\n",
    "y = data['Salary']"
   ]
  },
  {
   "cell_type": "code",
   "execution_count": null,
   "metadata": {},
   "outputs": [],
   "source": [
    "X_train, X_test, y_train, y_test = train_test_split(X, y, test_size=0.2, random_state=0)\n",
    "rfrg = RandomForestRegressor(n_estimators=100,random_state=1)\n",
    "X_test\n"
   ]
  },
  {
   "cell_type": "code",
   "execution_count": null,
   "metadata": {},
   "outputs": [],
   "source": [
    "rfrg.fit(X_train,y_train)\n",
    "y_pred = rfrg.predict(X_test)\n",
    "mean_squared_error(y_test,y_pred)\n",
    "score = r2_score(y_test, y_pred)\n",
    "score = score * 100\n",
    "score\n"
   ]
  },
  {
   "cell_type": "code",
   "execution_count": null,
   "metadata": {},
   "outputs": [],
   "source": [
    "prediction_with_sample_data = rfrg.predict(sample_data)\n",
    "prediction_with_sample_data"
   ]
  }
 ],
 "metadata": {
  "kernelspec": {
   "display_name": "Python 3",
   "language": "python",
   "name": "python3"
  },
  "language_info": {
   "codemirror_mode": {
    "name": "ipython",
    "version": 3
   },
   "file_extension": ".py",
   "mimetype": "text/x-python",
   "name": "python",
   "nbconvert_exporter": "python",
   "pygments_lexer": "ipython3",
   "version": "3.10.4"
  },
  "orig_nbformat": 4
 },
 "nbformat": 4,
 "nbformat_minor": 2
}
