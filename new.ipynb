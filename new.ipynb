{
 "cells": [
  {
   "attachments": {},
   "cell_type": "markdown",
   "metadata": {},
   "source": [
    "*** Salary Predition using Random Forest Regression Model ***"
   ]
  },
  {
   "cell_type": "code",
   "execution_count": 171,
   "metadata": {},
   "outputs": [],
   "source": [
    "\n",
    "#Importing All the necessary Python packages\n",
    "\n",
    "import pandas as pd\n",
    "from sklearn.model_selection import train_test_split\n",
    "from sklearn.metrics import mean_squared_error\n",
    "from sklearn.ensemble import RandomForestRegressor\n",
    "from sklearn.metrics import r2_score \n",
    "from sklearn.preprocessing import LabelEncoder\n"
   ]
  },
  {
   "cell_type": "code",
   "execution_count": null,
   "metadata": {},
   "outputs": [],
   "source": [
    "data = pd.read_csv(r'Main_Dataset.csv')\n",
    "data"
   ]
  },
  {
   "cell_type": "code",
   "execution_count": null,
   "metadata": {},
   "outputs": [],
   "source": [
    "sample_data = pd.read_csv(r'sample_test_data.csv')\n",
    "sample_data"
   ]
  },
  {
   "cell_type": "code",
   "execution_count": null,
   "metadata": {},
   "outputs": [],
   "source": [
    "# Label Encoding our main dataset for transforming \n",
    "# Categorical String values of Columns into their \n",
    "# particularly distinct Integers in a Sorted order\n",
    "\n",
    "location_encoder = LabelEncoder()\n",
    "job_role_encoder = LabelEncoder()\n",
    "degree_encoder = LabelEncoder()\n",
    "\n",
    "location_encoder.fit(data['Location'])\n",
    "job_role_encoder.fit(data['Job Role'])\n",
    "degree_encoder.fit(data['Degree'])\n",
    "\n",
    "data"
   ]
  },
  {
   "cell_type": "code",
   "execution_count": null,
   "metadata": {},
   "outputs": [],
   "source": [
    "# Label Encoding our sample dataset for transforming\n",
    "# Categorical String values of Columns into their\n",
    "# particularly distinct Integers in a Sorted order\n",
    "\n",
    "sample_data['Location'] = location_encoder.transform(sample_data['Location'])\n",
    "sample_data['Job Role'] = job_role_encoder.transform(sample_data['Job Role'])\n",
    "sample_data['Degree'] = degree_encoder.transform(sample_data['Degree'])\n",
    "sample_data\n"
   ]
  },
  {
   "cell_type": "code",
   "execution_count": null,
   "metadata": {},
   "outputs": [],
   "source": [
    "data['Location'] = location_encoder.transform(data['Location'])\n",
    "data['Job Role'] = job_role_encoder.transform(data['Job Role'])\n",
    "data['Degree'] = degree_encoder.transform(data['Degree'])\n",
    "data\n"
   ]
  },
  {
   "cell_type": "code",
   "execution_count": null,
   "metadata": {},
   "outputs": [],
   "source": [
    "# SToring our values of main data into X and y\n",
    "\n",
    "X = data[['Location', 'Job Role', 'Experience (Years)', 'Degree']]\n",
    "y = data['Salary']"
   ]
  },
  {
   "cell_type": "code",
   "execution_count": null,
   "metadata": {},
   "outputs": [],
   "source": [
    "# Applying Random Forest Regression Model into our main dataset\n",
    "\n",
    "X_train, X_test, y_train, y_test = train_test_split(X, y, test_size=0.2, random_state=0)\n",
    "rfrg = RandomForestRegressor(n_estimators=100,random_state=1)\n",
    "X_test\n"
   ]
  },
  {
   "cell_type": "code",
   "execution_count": null,
   "metadata": {},
   "outputs": [],
   "source": [
    "# Predicting Salary based on testing data\n",
    "# and determining score of the model\n",
    "\n",
    "rfrg.fit(X_train,y_train)\n",
    "y_pred = rfrg.predict(X_test)\n",
    "mean_squared_error(y_test,y_pred)\n",
    "score = r2_score(y_test, y_pred)\n",
    "score = score * 100\n",
    "print(\"Score of this model is :- {}%\".format(int(score)))\n"
   ]
  },
  {
   "cell_type": "code",
   "execution_count": null,
   "metadata": {},
   "outputs": [],
   "source": [
    "# Predicting Salary based on sample dataset data\n",
    "\n",
    "prediction_with_sample_data = rfrg.predict(sample_data)\n",
    "print(\"predicted salary is :- {} INR\".format(int(prediction_with_sample_data)))"
   ]
  }
 ],
 "metadata": {
  "kernelspec": {
   "display_name": "Python 3",
   "language": "python",
   "name": "python3"
  },
  "language_info": {
   "codemirror_mode": {
    "name": "ipython",
    "version": 3
   },
   "file_extension": ".py",
   "mimetype": "text/x-python",
   "name": "python",
   "nbconvert_exporter": "python",
   "pygments_lexer": "ipython3",
   "version": "3.10.4"
  },
  "orig_nbformat": 4
 },
 "nbformat": 4,
 "nbformat_minor": 2
}
